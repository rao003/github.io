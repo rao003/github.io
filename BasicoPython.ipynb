{
  "nbformat": 4,
  "nbformat_minor": 0,
  "metadata": {
    "colab": {
      "name": "Untitled0.ipynb",
      "version": "0.3.2",
      "provenance": [],
      "collapsed_sections": []
    },
    "kernelspec": {
      "name": "python3",
      "display_name": "Python 3"
    }
  },
  "cells": [
    {
      "cell_type": "code",
      "metadata": {
        "id": "5opuKrmg2ezn",
        "colab_type": "code",
        "colab": {
          "base_uri": "https://localhost:8080/",
          "height": 51
        },
        "outputId": "854cad6b-eda8-4ebe-eef6-d9c0e81a76b3"
      },
      "source": [
        "!pip install -q mysql.connector"
      ],
      "execution_count": 6,
      "outputs": [
        {
          "output_type": "stream",
          "text": [
            "\u001b[K     |████████████████████████████████| 11.9MB 2.9MB/s \n",
            "\u001b[?25h  Building wheel for mysql.connector (setup.py) ... \u001b[?25l\u001b[?25hdone\n"
          ],
          "name": "stdout"
        }
      ]
    },
    {
      "cell_type": "code",
      "metadata": {
        "id": "paR0-5AD2tZM",
        "colab_type": "code",
        "colab": {
          "base_uri": "https://localhost:8080/",
          "height": 105
        },
        "outputId": "f539941d-7bfe-4580-b1e0-3f74a8fe9e3a"
      },
      "source": [
        "import numpy as np\n",
        "import pandas as pd\n",
        "import json\n",
        "import requests\n",
        "import pandas_datareader.data as web\n",
        "import matplotlib.pyplot as plt\n",
        "import mglearn\n",
        "from sklearn.model_selection import train_test_split\n",
        "from sklearn.datasets import make_blobs\n",
        "import warnings"
      ],
      "execution_count": 4,
      "outputs": [
        {
          "output_type": "stream",
          "text": [
            "/usr/local/lib/python3.6/dist-packages/sklearn/externals/six.py:31: DeprecationWarning: The module is deprecated in version 0.21 and will be removed in version 0.23 since we've dropped support for Python 2.7. Please rely on the official version of six (https://pypi.org/project/six/).\n",
            "  \"(https://pypi.org/project/six/).\", DeprecationWarning)\n",
            "/usr/local/lib/python3.6/dist-packages/sklearn/externals/joblib/__init__.py:15: DeprecationWarning: sklearn.externals.joblib is deprecated in 0.21 and will be removed in 0.23. Please import this functionality directly from joblib, which can be installed with: pip install joblib. If this warning is raised when loading pickled models, you may need to re-serialize those models with scikit-learn 0.21+.\n",
            "  warnings.warn(msg, category=DeprecationWarning)\n"
          ],
          "name": "stderr"
        }
      ]
    },
    {
      "cell_type": "code",
      "metadata": {
        "id": "WoC2_94U2trS",
        "colab_type": "code",
        "colab": {
          "base_uri": "https://localhost:8080/",
          "height": 483
        },
        "outputId": "d37bb09a-d701-41fc-8f81-97dd4384fd2c"
      },
      "source": [
        "import mysql.connector as sql\n",
        "import pandas as pd\n",
        "db_connection = sql.connect(host='remotemysql.com', database='u9aMBzxchm', user='u9aMBzxchm', password='BVijKCi9ju')\n",
        "db_cursor = db_connection.cursor()\n",
        "db_cursor.execute('SELECT * FROM sales1')\n",
        "table_rows = db_cursor.fetchall()\n",
        "df = pd.DataFrame(table_rows)\n",
        "df\n"
      ],
      "execution_count": 11,
      "outputs": [
        {
          "output_type": "execute_result",
          "data": {
            "text/html": [
              "<div>\n",
              "<style scoped>\n",
              "    .dataframe tbody tr th:only-of-type {\n",
              "        vertical-align: middle;\n",
              "    }\n",
              "\n",
              "    .dataframe tbody tr th {\n",
              "        vertical-align: top;\n",
              "    }\n",
              "\n",
              "    .dataframe thead th {\n",
              "        text-align: right;\n",
              "    }\n",
              "</style>\n",
              "<table border=\"1\" class=\"dataframe\">\n",
              "  <thead>\n",
              "    <tr style=\"text-align: right;\">\n",
              "      <th></th>\n",
              "      <th>0</th>\n",
              "      <th>1</th>\n",
              "      <th>2</th>\n",
              "      <th>3</th>\n",
              "      <th>4</th>\n",
              "      <th>5</th>\n",
              "    </tr>\n",
              "  </thead>\n",
              "  <tbody>\n",
              "    <tr>\n",
              "      <th>0</th>\n",
              "      <td>1</td>\n",
              "      <td>Andrew</td>\n",
              "      <td>Television</td>\n",
              "      <td>2016-06-07</td>\n",
              "      <td>2500</td>\n",
              "      <td>Television</td>\n",
              "    </tr>\n",
              "    <tr>\n",
              "      <th>1</th>\n",
              "      <td>2</td>\n",
              "      <td>Bryan</td>\n",
              "      <td>Washing Machine</td>\n",
              "      <td>2016-07-10</td>\n",
              "      <td>1100</td>\n",
              "      <td>Television</td>\n",
              "    </tr>\n",
              "    <tr>\n",
              "      <th>2</th>\n",
              "      <td>4</td>\n",
              "      <td>Dean</td>\n",
              "      <td>Refrigerator</td>\n",
              "      <td>2016-09-15</td>\n",
              "      <td>583</td>\n",
              "      <td>Television</td>\n",
              "    </tr>\n",
              "    <tr>\n",
              "      <th>3</th>\n",
              "      <td>5</td>\n",
              "      <td>Esryl</td>\n",
              "      <td>Wall Fan</td>\n",
              "      <td>2016-10-11</td>\n",
              "      <td>45</td>\n",
              "      <td>Television</td>\n",
              "    </tr>\n",
              "    <tr>\n",
              "      <th>4</th>\n",
              "      <td>6</td>\n",
              "      <td>Franky</td>\n",
              "      <td>Steam Iron</td>\n",
              "      <td>2016-10-17</td>\n",
              "      <td>0</td>\n",
              "      <td>Television</td>\n",
              "    </tr>\n",
              "    <tr>\n",
              "      <th>5</th>\n",
              "      <td>7</td>\n",
              "      <td>Gerry</td>\n",
              "      <td>Air Conditioner</td>\n",
              "      <td>2016-11-17</td>\n",
              "      <td>325</td>\n",
              "      <td>Television</td>\n",
              "    </tr>\n",
              "    <tr>\n",
              "      <th>6</th>\n",
              "      <td>9</td>\n",
              "      <td>Nome</td>\n",
              "      <td>Television</td>\n",
              "      <td>2019-06-07</td>\n",
              "      <td>2500</td>\n",
              "      <td>Television</td>\n",
              "    </tr>\n",
              "    <tr>\n",
              "      <th>7</th>\n",
              "      <td>10</td>\n",
              "      <td>nome</td>\n",
              "      <td>item</td>\n",
              "      <td>2019-01-01</td>\n",
              "      <td>10</td>\n",
              "      <td>teste</td>\n",
              "    </tr>\n",
              "    <tr>\n",
              "      <th>8</th>\n",
              "      <td>11</td>\n",
              "      <td>nome</td>\n",
              "      <td>item</td>\n",
              "      <td>2019-02-02</td>\n",
              "      <td>123</td>\n",
              "      <td>comentario</td>\n",
              "    </tr>\n",
              "    <tr>\n",
              "      <th>9</th>\n",
              "      <td>12</td>\n",
              "      <td>Nome</td>\n",
              "      <td>Television</td>\n",
              "      <td>2019-06-07</td>\n",
              "      <td>2500</td>\n",
              "      <td>Television</td>\n",
              "    </tr>\n",
              "    <tr>\n",
              "      <th>10</th>\n",
              "      <td>14</td>\n",
              "      <td>Nome</td>\n",
              "      <td>Television</td>\n",
              "      <td>2019-06-07</td>\n",
              "      <td>2500</td>\n",
              "      <td>Television</td>\n",
              "    </tr>\n",
              "    <tr>\n",
              "      <th>11</th>\n",
              "      <td>15</td>\n",
              "      <td>Nome</td>\n",
              "      <td>Television</td>\n",
              "      <td>2019-06-07</td>\n",
              "      <td>2500</td>\n",
              "      <td>Television</td>\n",
              "    </tr>\n",
              "    <tr>\n",
              "      <th>12</th>\n",
              "      <td>16</td>\n",
              "      <td>Presidente</td>\n",
              "      <td>Republica</td>\n",
              "      <td>2019-01-01</td>\n",
              "      <td>1</td>\n",
              "      <td>melhor</td>\n",
              "    </tr>\n",
              "    <tr>\n",
              "      <th>13</th>\n",
              "      <td>17</td>\n",
              "      <td>teste</td>\n",
              "      <td>external</td>\n",
              "      <td>2016-09-10</td>\n",
              "      <td>1</td>\n",
              "      <td>mysql external</td>\n",
              "    </tr>\n",
              "  </tbody>\n",
              "</table>\n",
              "</div>"
            ],
            "text/plain": [
              "     0           1                2           3     4               5\n",
              "0    1      Andrew       Television  2016-06-07  2500      Television\n",
              "1    2       Bryan  Washing Machine  2016-07-10  1100      Television\n",
              "2    4        Dean     Refrigerator  2016-09-15   583      Television\n",
              "3    5       Esryl         Wall Fan  2016-10-11    45      Television\n",
              "4    6      Franky       Steam Iron  2016-10-17     0      Television\n",
              "5    7       Gerry  Air Conditioner  2016-11-17   325      Television\n",
              "6    9        Nome       Television  2019-06-07  2500      Television\n",
              "7   10        nome             item  2019-01-01    10           teste\n",
              "8   11        nome             item  2019-02-02   123      comentario\n",
              "9   12        Nome       Television  2019-06-07  2500      Television\n",
              "10  14        Nome       Television  2019-06-07  2500      Television\n",
              "11  15        Nome       Television  2019-06-07  2500      Television\n",
              "12  16  Presidente        Republica  2019-01-01     1          melhor\n",
              "13  17       teste         external  2016-09-10     1  mysql external"
            ]
          },
          "metadata": {
            "tags": []
          },
          "execution_count": 11
        }
      ]
    },
    {
      "cell_type": "code",
      "metadata": {
        "id": "RA8t_bx86U1P",
        "colab_type": "code",
        "colab": {
          "base_uri": "https://localhost:8080/",
          "height": 359
        },
        "outputId": "a4277745-cb19-4ab6-8460-ba5bffd0ba92"
      },
      "source": [
        "df = pd.DataFrame(np.random.randint(1,100, 100).reshape(10, -1))\n",
        "df"
      ],
      "execution_count": 12,
      "outputs": [
        {
          "output_type": "execute_result",
          "data": {
            "text/html": [
              "<div>\n",
              "<style scoped>\n",
              "    .dataframe tbody tr th:only-of-type {\n",
              "        vertical-align: middle;\n",
              "    }\n",
              "\n",
              "    .dataframe tbody tr th {\n",
              "        vertical-align: top;\n",
              "    }\n",
              "\n",
              "    .dataframe thead th {\n",
              "        text-align: right;\n",
              "    }\n",
              "</style>\n",
              "<table border=\"1\" class=\"dataframe\">\n",
              "  <thead>\n",
              "    <tr style=\"text-align: right;\">\n",
              "      <th></th>\n",
              "      <th>0</th>\n",
              "      <th>1</th>\n",
              "      <th>2</th>\n",
              "      <th>3</th>\n",
              "      <th>4</th>\n",
              "      <th>5</th>\n",
              "      <th>6</th>\n",
              "      <th>7</th>\n",
              "      <th>8</th>\n",
              "      <th>9</th>\n",
              "    </tr>\n",
              "  </thead>\n",
              "  <tbody>\n",
              "    <tr>\n",
              "      <th>0</th>\n",
              "      <td>25</td>\n",
              "      <td>5</td>\n",
              "      <td>73</td>\n",
              "      <td>62</td>\n",
              "      <td>89</td>\n",
              "      <td>88</td>\n",
              "      <td>78</td>\n",
              "      <td>29</td>\n",
              "      <td>70</td>\n",
              "      <td>13</td>\n",
              "    </tr>\n",
              "    <tr>\n",
              "      <th>1</th>\n",
              "      <td>64</td>\n",
              "      <td>7</td>\n",
              "      <td>88</td>\n",
              "      <td>58</td>\n",
              "      <td>20</td>\n",
              "      <td>69</td>\n",
              "      <td>11</td>\n",
              "      <td>27</td>\n",
              "      <td>73</td>\n",
              "      <td>9</td>\n",
              "    </tr>\n",
              "    <tr>\n",
              "      <th>2</th>\n",
              "      <td>32</td>\n",
              "      <td>81</td>\n",
              "      <td>41</td>\n",
              "      <td>95</td>\n",
              "      <td>72</td>\n",
              "      <td>51</td>\n",
              "      <td>74</td>\n",
              "      <td>75</td>\n",
              "      <td>90</td>\n",
              "      <td>25</td>\n",
              "    </tr>\n",
              "    <tr>\n",
              "      <th>3</th>\n",
              "      <td>28</td>\n",
              "      <td>10</td>\n",
              "      <td>77</td>\n",
              "      <td>49</td>\n",
              "      <td>10</td>\n",
              "      <td>29</td>\n",
              "      <td>83</td>\n",
              "      <td>58</td>\n",
              "      <td>14</td>\n",
              "      <td>48</td>\n",
              "    </tr>\n",
              "    <tr>\n",
              "      <th>4</th>\n",
              "      <td>34</td>\n",
              "      <td>18</td>\n",
              "      <td>37</td>\n",
              "      <td>40</td>\n",
              "      <td>40</td>\n",
              "      <td>36</td>\n",
              "      <td>53</td>\n",
              "      <td>71</td>\n",
              "      <td>22</td>\n",
              "      <td>93</td>\n",
              "    </tr>\n",
              "    <tr>\n",
              "      <th>5</th>\n",
              "      <td>13</td>\n",
              "      <td>95</td>\n",
              "      <td>76</td>\n",
              "      <td>76</td>\n",
              "      <td>37</td>\n",
              "      <td>55</td>\n",
              "      <td>88</td>\n",
              "      <td>31</td>\n",
              "      <td>82</td>\n",
              "      <td>41</td>\n",
              "    </tr>\n",
              "    <tr>\n",
              "      <th>6</th>\n",
              "      <td>69</td>\n",
              "      <td>63</td>\n",
              "      <td>43</td>\n",
              "      <td>40</td>\n",
              "      <td>34</td>\n",
              "      <td>5</td>\n",
              "      <td>33</td>\n",
              "      <td>8</td>\n",
              "      <td>35</td>\n",
              "      <td>3</td>\n",
              "    </tr>\n",
              "    <tr>\n",
              "      <th>7</th>\n",
              "      <td>91</td>\n",
              "      <td>89</td>\n",
              "      <td>39</td>\n",
              "      <td>16</td>\n",
              "      <td>30</td>\n",
              "      <td>8</td>\n",
              "      <td>17</td>\n",
              "      <td>23</td>\n",
              "      <td>92</td>\n",
              "      <td>47</td>\n",
              "    </tr>\n",
              "    <tr>\n",
              "      <th>8</th>\n",
              "      <td>37</td>\n",
              "      <td>33</td>\n",
              "      <td>18</td>\n",
              "      <td>32</td>\n",
              "      <td>89</td>\n",
              "      <td>52</td>\n",
              "      <td>80</td>\n",
              "      <td>47</td>\n",
              "      <td>98</td>\n",
              "      <td>29</td>\n",
              "    </tr>\n",
              "    <tr>\n",
              "      <th>9</th>\n",
              "      <td>46</td>\n",
              "      <td>57</td>\n",
              "      <td>2</td>\n",
              "      <td>32</td>\n",
              "      <td>36</td>\n",
              "      <td>42</td>\n",
              "      <td>72</td>\n",
              "      <td>75</td>\n",
              "      <td>26</td>\n",
              "      <td>33</td>\n",
              "    </tr>\n",
              "  </tbody>\n",
              "</table>\n",
              "</div>"
            ],
            "text/plain": [
              "    0   1   2   3   4   5   6   7   8   9\n",
              "0  25   5  73  62  89  88  78  29  70  13\n",
              "1  64   7  88  58  20  69  11  27  73   9\n",
              "2  32  81  41  95  72  51  74  75  90  25\n",
              "3  28  10  77  49  10  29  83  58  14  48\n",
              "4  34  18  37  40  40  36  53  71  22  93\n",
              "5  13  95  76  76  37  55  88  31  82  41\n",
              "6  69  63  43  40  34   5  33   8  35   3\n",
              "7  91  89  39  16  30   8  17  23  92  47\n",
              "8  37  33  18  32  89  52  80  47  98  29\n",
              "9  46  57   2  32  36  42  72  75  26  33"
            ]
          },
          "metadata": {
            "tags": []
          },
          "execution_count": 12
        }
      ]
    },
    {
      "cell_type": "code",
      "metadata": {
        "id": "4R_UmgNd6YHq",
        "colab_type": "code",
        "colab": {
          "base_uri": "https://localhost:8080/",
          "height": 442
        },
        "outputId": "2b23f586-086b-4a23-a2f2-d4d8ec7abe7a"
      },
      "source": [
        "import requests\n",
        "\n",
        "r = requests.get('http://api.openweathermap.org/data/2.5/weather?q=Berlin&APPID=1a718a328d8e8a3f3c91f0e52e862477')\n",
        "daten = r.json()\n",
        "daten"
      ],
      "execution_count": 13,
      "outputs": [
        {
          "output_type": "execute_result",
          "data": {
            "text/plain": [
              "{'base': 'stations',\n",
              " 'clouds': {'all': 20},\n",
              " 'cod': 200,\n",
              " 'coord': {'lat': 52.52, 'lon': 13.39},\n",
              " 'dt': 1565111472,\n",
              " 'id': 2950159,\n",
              " 'main': {'humidity': 61,\n",
              "  'pressure': 1007,\n",
              "  'temp': 296.28,\n",
              "  'temp_max': 298.15,\n",
              "  'temp_min': 293.71},\n",
              " 'name': 'Berlin',\n",
              " 'sys': {'country': 'DE',\n",
              "  'id': 1275,\n",
              "  'message': 0.009,\n",
              "  'sunrise': 1565062408,\n",
              "  'sunset': 1565117477,\n",
              "  'type': 1},\n",
              " 'timezone': 7200,\n",
              " 'visibility': 10000,\n",
              " 'weather': [{'description': 'few clouds',\n",
              "   'icon': '02d',\n",
              "   'id': 801,\n",
              "   'main': 'Clouds'}],\n",
              " 'wind': {'deg': 340, 'speed': 2.6}}"
            ]
          },
          "metadata": {
            "tags": []
          },
          "execution_count": 13
        }
      ]
    },
    {
      "cell_type": "code",
      "metadata": {
        "id": "3p9bEoJS6YFL",
        "colab_type": "code",
        "colab": {
          "base_uri": "https://localhost:8080/",
          "height": 235
        },
        "outputId": "4fe6f199-3824-4a15-ab1f-d8f12eaceb4d"
      },
      "source": [
        "import pandas as pd\n",
        "import pandas_datareader.data as web\n",
        "\n",
        "all_data = {ticker: web.get_data_yahoo(ticker)\n",
        "           for ticker in ['FB','IBM','MSFT','UBER','GOOG']}\n",
        "\n",
        "price = pd.DataFrame({ticker: data['Adj Close']\n",
        "                     for ticker, data in all_data.items()})\n",
        "\n",
        "volume = pd.DataFrame({ticker: data['Volume']\n",
        "                      for ticker, data in all_data.items()})\n",
        "\n",
        "returns = price.pct_change()\n",
        "returns.tail()"
      ],
      "execution_count": 14,
      "outputs": [
        {
          "output_type": "execute_result",
          "data": {
            "text/html": [
              "<div>\n",
              "<style scoped>\n",
              "    .dataframe tbody tr th:only-of-type {\n",
              "        vertical-align: middle;\n",
              "    }\n",
              "\n",
              "    .dataframe tbody tr th {\n",
              "        vertical-align: top;\n",
              "    }\n",
              "\n",
              "    .dataframe thead th {\n",
              "        text-align: right;\n",
              "    }\n",
              "</style>\n",
              "<table border=\"1\" class=\"dataframe\">\n",
              "  <thead>\n",
              "    <tr style=\"text-align: right;\">\n",
              "      <th></th>\n",
              "      <th>FB</th>\n",
              "      <th>IBM</th>\n",
              "      <th>MSFT</th>\n",
              "      <th>UBER</th>\n",
              "      <th>GOOG</th>\n",
              "    </tr>\n",
              "    <tr>\n",
              "      <th>Date</th>\n",
              "      <th></th>\n",
              "      <th></th>\n",
              "      <th></th>\n",
              "      <th></th>\n",
              "      <th></th>\n",
              "    </tr>\n",
              "  </thead>\n",
              "  <tbody>\n",
              "    <tr>\n",
              "      <th>2019-07-31</th>\n",
              "      <td>-0.014261</td>\n",
              "      <td>-0.010216</td>\n",
              "      <td>-0.029070</td>\n",
              "      <td>-0.010566</td>\n",
              "      <td>-0.006905</td>\n",
              "    </tr>\n",
              "    <tr>\n",
              "      <th>2019-08-01</th>\n",
              "      <td>-0.007723</td>\n",
              "      <td>0.014031</td>\n",
              "      <td>0.013136</td>\n",
              "      <td>-0.019696</td>\n",
              "      <td>-0.006304</td>\n",
              "    </tr>\n",
              "    <tr>\n",
              "      <th>2019-08-02</th>\n",
              "      <td>-0.019250</td>\n",
              "      <td>-0.020423</td>\n",
              "      <td>-0.008402</td>\n",
              "      <td>-0.022029</td>\n",
              "      <td>-0.012423</td>\n",
              "    </tr>\n",
              "    <tr>\n",
              "      <th>2019-08-05</th>\n",
              "      <td>-0.038567</td>\n",
              "      <td>-0.044075</td>\n",
              "      <td>-0.034258</td>\n",
              "      <td>-0.033416</td>\n",
              "      <td>-0.034900</td>\n",
              "    </tr>\n",
              "    <tr>\n",
              "      <th>2019-08-06</th>\n",
              "      <td>0.013592</td>\n",
              "      <td>-0.005825</td>\n",
              "      <td>0.010589</td>\n",
              "      <td>-0.008848</td>\n",
              "      <td>0.014467</td>\n",
              "    </tr>\n",
              "  </tbody>\n",
              "</table>\n",
              "</div>"
            ],
            "text/plain": [
              "                  FB       IBM      MSFT      UBER      GOOG\n",
              "Date                                                        \n",
              "2019-07-31 -0.014261 -0.010216 -0.029070 -0.010566 -0.006905\n",
              "2019-08-01 -0.007723  0.014031  0.013136 -0.019696 -0.006304\n",
              "2019-08-02 -0.019250 -0.020423 -0.008402 -0.022029 -0.012423\n",
              "2019-08-05 -0.038567 -0.044075 -0.034258 -0.033416 -0.034900\n",
              "2019-08-06  0.013592 -0.005825  0.010589 -0.008848  0.014467"
            ]
          },
          "metadata": {
            "tags": []
          },
          "execution_count": 14
        }
      ]
    },
    {
      "cell_type": "code",
      "metadata": {
        "id": "uH0dTHs_6YCy",
        "colab_type": "code",
        "colab": {
          "base_uri": "https://localhost:8080/",
          "height": 484
        },
        "outputId": "54a00ee8-4c65-4e73-8bf9-6ee5f4fe28c2"
      },
      "source": [
        "plt.plot(np.random.randn(50).cumsum(), 'b--')\n",
        "achse1.plot(np.random.randn(50).cumsum(), 'k--')\n",
        "achse2.plot(np.random.randn(50).cumsum(), 'g--')\n",
        "achse3.plot(np.random.randn(50).cumsum(), 'r--')\n",
        "achse4.hist(np.random.randn(100), bins=20)\n",
        "figure"
      ],
      "execution_count": 15,
      "outputs": [
        {
          "output_type": "error",
          "ename": "NameError",
          "evalue": "ignored",
          "traceback": [
            "\u001b[0;31m---------------------------------------------------------------------------\u001b[0m",
            "\u001b[0;31mNameError\u001b[0m                                 Traceback (most recent call last)",
            "\u001b[0;32m<ipython-input-15-9dc3559e41ad>\u001b[0m in \u001b[0;36m<module>\u001b[0;34m()\u001b[0m\n\u001b[1;32m      1\u001b[0m \u001b[0mplt\u001b[0m\u001b[0;34m.\u001b[0m\u001b[0mplot\u001b[0m\u001b[0;34m(\u001b[0m\u001b[0mnp\u001b[0m\u001b[0;34m.\u001b[0m\u001b[0mrandom\u001b[0m\u001b[0;34m.\u001b[0m\u001b[0mrandn\u001b[0m\u001b[0;34m(\u001b[0m\u001b[0;36m50\u001b[0m\u001b[0;34m)\u001b[0m\u001b[0;34m.\u001b[0m\u001b[0mcumsum\u001b[0m\u001b[0;34m(\u001b[0m\u001b[0;34m)\u001b[0m\u001b[0;34m,\u001b[0m \u001b[0;34m'b--'\u001b[0m\u001b[0;34m)\u001b[0m\u001b[0;34m\u001b[0m\u001b[0;34m\u001b[0m\u001b[0m\n\u001b[0;32m----> 2\u001b[0;31m \u001b[0machse1\u001b[0m\u001b[0;34m.\u001b[0m\u001b[0mplot\u001b[0m\u001b[0;34m(\u001b[0m\u001b[0mnp\u001b[0m\u001b[0;34m.\u001b[0m\u001b[0mrandom\u001b[0m\u001b[0;34m.\u001b[0m\u001b[0mrandn\u001b[0m\u001b[0;34m(\u001b[0m\u001b[0;36m50\u001b[0m\u001b[0;34m)\u001b[0m\u001b[0;34m.\u001b[0m\u001b[0mcumsum\u001b[0m\u001b[0;34m(\u001b[0m\u001b[0;34m)\u001b[0m\u001b[0;34m,\u001b[0m \u001b[0;34m'k--'\u001b[0m\u001b[0;34m)\u001b[0m\u001b[0;34m\u001b[0m\u001b[0;34m\u001b[0m\u001b[0m\n\u001b[0m\u001b[1;32m      3\u001b[0m \u001b[0machse2\u001b[0m\u001b[0;34m.\u001b[0m\u001b[0mplot\u001b[0m\u001b[0;34m(\u001b[0m\u001b[0mnp\u001b[0m\u001b[0;34m.\u001b[0m\u001b[0mrandom\u001b[0m\u001b[0;34m.\u001b[0m\u001b[0mrandn\u001b[0m\u001b[0;34m(\u001b[0m\u001b[0;36m50\u001b[0m\u001b[0;34m)\u001b[0m\u001b[0;34m.\u001b[0m\u001b[0mcumsum\u001b[0m\u001b[0;34m(\u001b[0m\u001b[0;34m)\u001b[0m\u001b[0;34m,\u001b[0m \u001b[0;34m'g--'\u001b[0m\u001b[0;34m)\u001b[0m\u001b[0;34m\u001b[0m\u001b[0;34m\u001b[0m\u001b[0m\n\u001b[1;32m      4\u001b[0m \u001b[0machse3\u001b[0m\u001b[0;34m.\u001b[0m\u001b[0mplot\u001b[0m\u001b[0;34m(\u001b[0m\u001b[0mnp\u001b[0m\u001b[0;34m.\u001b[0m\u001b[0mrandom\u001b[0m\u001b[0;34m.\u001b[0m\u001b[0mrandn\u001b[0m\u001b[0;34m(\u001b[0m\u001b[0;36m50\u001b[0m\u001b[0;34m)\u001b[0m\u001b[0;34m.\u001b[0m\u001b[0mcumsum\u001b[0m\u001b[0;34m(\u001b[0m\u001b[0;34m)\u001b[0m\u001b[0;34m,\u001b[0m \u001b[0;34m'r--'\u001b[0m\u001b[0;34m)\u001b[0m\u001b[0;34m\u001b[0m\u001b[0;34m\u001b[0m\u001b[0m\n\u001b[1;32m      5\u001b[0m \u001b[0machse4\u001b[0m\u001b[0;34m.\u001b[0m\u001b[0mhist\u001b[0m\u001b[0;34m(\u001b[0m\u001b[0mnp\u001b[0m\u001b[0;34m.\u001b[0m\u001b[0mrandom\u001b[0m\u001b[0;34m.\u001b[0m\u001b[0mrandn\u001b[0m\u001b[0;34m(\u001b[0m\u001b[0;36m100\u001b[0m\u001b[0;34m)\u001b[0m\u001b[0;34m,\u001b[0m \u001b[0mbins\u001b[0m\u001b[0;34m=\u001b[0m\u001b[0;36m20\u001b[0m\u001b[0;34m)\u001b[0m\u001b[0;34m\u001b[0m\u001b[0;34m\u001b[0m\u001b[0m\n",
            "\u001b[0;31mNameError\u001b[0m: name 'achse1' is not defined"
          ]
        },
        {
          "output_type": "display_data",
          "data": {
            "image/png": "[encoded data removed]",
            "text/plain": [
              "<Figure size 432x288 with 1 Axes>"
            ]
          },
          "metadata": {
            "tags": []
          }
        }
      ]
    },
    {
      "cell_type": "code",
      "metadata": {
        "id": "br36jlHn6YAE",
        "colab_type": "code",
        "colab": {}
      },
      "source": [
        ""
      ],
      "execution_count": 0,
      "outputs": []
    },
    {
      "cell_type": "code",
      "metadata": {
        "id": "DpVSktUK6X9k",
        "colab_type": "code",
        "colab": {}
      },
      "source": [
        ""
      ],
      "execution_count": 0,
      "outputs": []
    }
  ]
}