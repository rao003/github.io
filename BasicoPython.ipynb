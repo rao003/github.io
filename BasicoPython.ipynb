{
  "nbformat": 4,
  "nbformat_minor": 0,
  "metadata": {
    "colab": {
      "name": "Copy of Untitled0.ipynb",
      "version": "0.3.2",
      "provenance": [],
      "collapsed_sections": []
    },
    "kernelspec": {
      "name": "python3",
      "display_name": "Python 3"
    }
  },
  "cells": [
    {
      "cell_type": "code",
      "metadata": {
        "id": "5opuKrmg2ezn",
        "colab_type": "code",
        "outputId": "854cad6b-eda8-4ebe-eef6-d9c0e81a76b3",
        "colab": {
          "base_uri": "https://localhost:8080/",
          "height": 51
        }
      },
      "source": [
        "!pip install -q mysql.connector"
      ],
      "execution_count": 0,
      "outputs": [
        {
          "output_type": "stream",
          "text": [
            "\u001b[K     |████████████████████████████████| 11.9MB 2.9MB/s \n",
            "\u001b[?25h  Building wheel for mysql.connector (setup.py) ... \u001b[?25l\u001b[?25hdone\n"
          ],
          "name": "stdout"
        }
      ]
    },
    {
      "cell_type": "code",
      "metadata": {
        "id": "paR0-5AD2tZM",
        "colab_type": "code",
        "outputId": "f539941d-7bfe-4580-b1e0-3f74a8fe9e3a",
        "colab": {
          "base_uri": "https://localhost:8080/",
          "height": 105
        }
      },
      "source": [
        "import numpy as np\n",
        "import pandas as pd\n",
        "import json\n",
        "import requests\n",
        "import pandas_datareader.data as web\n",
        "import matplotlib.pyplot as plt\n",
        "import mglearn\n",
        "from sklearn.model_selection import train_test_split\n",
        "from sklearn.datasets import make_blobs\n",
        "import warnings"
      ],
      "execution_count": 0,
      "outputs": [
        {
          "output_type": "stream",
          "text": [
            "/usr/local/lib/python3.6/dist-packages/sklearn/externals/six.py:31: DeprecationWarning: The module is deprecated in version 0.21 and will be removed in version 0.23 since we've dropped support for Python 2.7. Please rely on the official version of six (https://pypi.org/project/six/).\n",
            "  \"(https://pypi.org/project/six/).\", DeprecationWarning)\n",
            "/usr/local/lib/python3.6/dist-packages/sklearn/externals/joblib/__init__.py:15: DeprecationWarning: sklearn.externals.joblib is deprecated in 0.21 and will be removed in 0.23. Please import this functionality directly from joblib, which can be installed with: pip install joblib. If this warning is raised when loading pickled models, you may need to re-serialize those models with scikit-learn 0.21+.\n",
            "  warnings.warn(msg, category=DeprecationWarning)\n"
          ],
          "name": "stderr"
        }
      ]
    },
    {
      "cell_type": "code",
      "metadata": {
        "id": "WoC2_94U2trS",
        "colab_type": "code",
        "outputId": "d37bb09a-d701-41fc-8f81-97dd4384fd2c",
        "colab": {
          "base_uri": "https://localhost:8080/",
          "height": 483
        }
      },
      "source": [
        "import mysql.connector as sql\n",
        "import pandas as pd\n",
        "db_connection = sql.connect(host='remotemysql.com', database='u9aMBzxchm', user='u9aMBzxchm', password='BVijKCi9ju')\n",
        "db_cursor = db_connection.cursor()\n",
        "db_cursor.execute('SELECT * FROM sales1')\n",
        "table_rows = db_cursor.fetchall()\n",
        "df = pd.DataFrame(table_rows)\n",
        "df\n"
      ],
      "execution_count": 0,
      "outputs": [
        {
          "output_type": "execute_result",
          "data": {
            "text/html": [
              "<div>\n",
              "<style scoped>\n",
              "    .dataframe tbody tr th:only-of-type {\n",
              "        vertical-align: middle;\n",
              "    }\n",
              "\n",
              "    .dataframe tbody tr th {\n",
              "        vertical-align: top;\n",
              "    }\n",
              "\n",
              "    .dataframe thead th {\n",
              "        text-align: right;\n",
              "    }\n",
              "</style>\n",
              "<table border=\"1\" class=\"dataframe\">\n",
              "  <thead>\n",
              "    <tr style=\"text-align: right;\">\n",
              "      <th></th>\n",
              "      <th>0</th>\n",
              "      <th>1</th>\n",
              "      <th>2</th>\n",
              "      <th>3</th>\n",
              "      <th>4</th>\n",
              "      <th>5</th>\n",
              "    </tr>\n",
              "  </thead>\n",
              "  <tbody>\n",
              "    <tr>\n",
              "      <th>0</th>\n",
              "      <td>1</td>\n",
              "      <td>Andrew</td>\n",
              "      <td>Television</td>\n",
              "      <td>2016-06-07</td>\n",
              "      <td>2500</td>\n",
              "      <td>Television</td>\n",
              "    </tr>\n",
              "    <tr>\n",
              "      <th>1</th>\n",
              "      <td>2</td>\n",
              "      <td>Bryan</td>\n",
              "      <td>Washing Machine</td>\n",
              "      <td>2016-07-10</td>\n",
              "      <td>1100</td>\n",
              "      <td>Television</td>\n",
              "    </tr>\n",
              "    <tr>\n",
              "      <th>2</th>\n",
              "      <td>4</td>\n",
              "      <td>Dean</td>\n",
              "      <td>Refrigerator</td>\n",
              "      <td>2016-09-15</td>\n",
              "      <td>583</td>\n",
              "      <td>Television</td>\n",
              "    </tr>\n",
              "    <tr>\n",
              "      <th>3</th>\n",
              "      <td>5</td>\n",
              "      <td>Esryl</td>\n",
              "      <td>Wall Fan</td>\n",
              "      <td>2016-10-11</td>\n",
              "      <td>45</td>\n",
              "      <td>Television</td>\n",
              "    </tr>\n",
              "    <tr>\n",
              "      <th>4</th>\n",
              "      <td>6</td>\n",
              "      <td>Franky</td>\n",
              "      <td>Steam Iron</td>\n",
              "      <td>2016-10-17</td>\n",
              "      <td>0</td>\n",
              "      <td>Television</td>\n",
              "    </tr>\n",
              "    <tr>\n",
              "      <th>5</th>\n",
              "      <td>7</td>\n",
              "      <td>Gerry</td>\n",
              "      <td>Air Conditioner</td>\n",
              "      <td>2016-11-17</td>\n",
              "      <td>325</td>\n",
              "      <td>Television</td>\n",
              "    </tr>\n",
              "    <tr>\n",
              "      <th>6</th>\n",
              "      <td>9</td>\n",
              "      <td>Nome</td>\n",
              "      <td>Television</td>\n",
              "      <td>2019-06-07</td>\n",
              "      <td>2500</td>\n",
              "      <td>Television</td>\n",
              "    </tr>\n",
              "    <tr>\n",
              "      <th>7</th>\n",
              "      <td>10</td>\n",
              "      <td>nome</td>\n",
              "      <td>item</td>\n",
              "      <td>2019-01-01</td>\n",
              "      <td>10</td>\n",
              "      <td>teste</td>\n",
              "    </tr>\n",
              "    <tr>\n",
              "      <th>8</th>\n",
              "      <td>11</td>\n",
              "      <td>nome</td>\n",
              "      <td>item</td>\n",
              "      <td>2019-02-02</td>\n",
              "      <td>123</td>\n",
              "      <td>comentario</td>\n",
              "    </tr>\n",
              "    <tr>\n",
              "      <th>9</th>\n",
              "      <td>12</td>\n",
              "      <td>Nome</td>\n",
              "      <td>Television</td>\n",
              "      <td>2019-06-07</td>\n",
              "      <td>2500</td>\n",
              "      <td>Television</td>\n",
              "    </tr>\n",
              "    <tr>\n",
              "      <th>10</th>\n",
              "      <td>14</td>\n",
              "      <td>Nome</td>\n",
              "      <td>Television</td>\n",
              "      <td>2019-06-07</td>\n",
              "      <td>2500</td>\n",
              "      <td>Television</td>\n",
              "    </tr>\n",
              "    <tr>\n",
              "      <th>11</th>\n",
              "      <td>15</td>\n",
              "      <td>Nome</td>\n",
              "      <td>Television</td>\n",
              "      <td>2019-06-07</td>\n",
              "      <td>2500</td>\n",
              "      <td>Television</td>\n",
              "    </tr>\n",
              "    <tr>\n",
              "      <th>12</th>\n",
              "      <td>16</td>\n",
              "      <td>Presidente</td>\n",
              "      <td>Republica</td>\n",
              "      <td>2019-01-01</td>\n",
              "      <td>1</td>\n",
              "      <td>melhor</td>\n",
              "    </tr>\n",
              "    <tr>\n",
              "      <th>13</th>\n",
              "      <td>17</td>\n",
              "      <td>teste</td>\n",
              "      <td>external</td>\n",
              "      <td>2016-09-10</td>\n",
              "      <td>1</td>\n",
              "      <td>mysql external</td>\n",
              "    </tr>\n",
              "  </tbody>\n",
              "</table>\n",
              "</div>"
            ],
            "text/plain": [
              "     0           1                2           3     4               5\n",
              "0    1      Andrew       Television  2016-06-07  2500      Television\n",
              "1    2       Bryan  Washing Machine  2016-07-10  1100      Television\n",
              "2    4        Dean     Refrigerator  2016-09-15   583      Television\n",
              "3    5       Esryl         Wall Fan  2016-10-11    45      Television\n",
              "4    6      Franky       Steam Iron  2016-10-17     0      Television\n",
              "5    7       Gerry  Air Conditioner  2016-11-17   325      Television\n",
              "6    9        Nome       Television  2019-06-07  2500      Television\n",
              "7   10        nome             item  2019-01-01    10           teste\n",
              "8   11        nome             item  2019-02-02   123      comentario\n",
              "9   12        Nome       Television  2019-06-07  2500      Television\n",
              "10  14        Nome       Television  2019-06-07  2500      Television\n",
              "11  15        Nome       Television  2019-06-07  2500      Television\n",
              "12  16  Presidente        Republica  2019-01-01     1          melhor\n",
              "13  17       teste         external  2016-09-10     1  mysql external"
            ]
          },
          "metadata": {
            "tags": []
          },
          "execution_count": 11
        }
      ]
    }
  ]
}